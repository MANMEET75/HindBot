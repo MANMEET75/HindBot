{
 "cells": [
  {
   "cell_type": "code",
   "execution_count": 21,
   "metadata": {},
   "outputs": [
    {
     "name": "stdout",
     "output_type": "stream",
     "text": [
      "\n",
      "Website Text:\n",
      "Poverty - Population Matters\n",
      "The issueThe factsSolutionsMythbustingPopulation ExplorerNewsResource hubTake actionCampaignsChoosing a Small FamilyTackle our consumptionOur grassroots partnersFundraise for usWhat else can I do?About usWhat we doOur valuesMeet the BoardOur patronsMeet our teamNewsletterContact usSearch\n",
      "JoinDonate\n",
      "poverty\n",
      "Despite enormous gains in the wellbeing and economic circumstances of hundreds of millions of people, 10% of the world’s population still live on less than $2 a day. High population growth traps individuals, communities and even entire countries in poverty. Achieving sustainable population levels, locally and globally, helps people achieve the dignity and standard of living we all deserve.\n",
      "While billions enjoy an affluent style, more than a tenth of the world’s population live in extreme poverty today. Poverty is not a consequence of limited global resources, but political and economic injustice. However, the poorest people are almost always at greatest risk from environmental damage, climate change and competition for resources. The effects of unsustainable population hit the poorest first, and hardest.\n",
      "About Population Matters\n",
      "Population Matters campaigns to achieve a sustainable human population, to protect the natural world and improve people’s lives.\n",
      "We promote positive, practical, ethical solutions – encouraging smaller families, inspiring people to reduce excessive consumption and helping us all to live within our planet’s natural limits. We believe everyone should have the freedom and ability to choose a smaller family. We support human rights, women’s empowerment and global justice.\n",
      "Find out more\n",
      "Family size and poverty\n",
      "The world’s poorest countries tend to have the largest family sizes and fertility rates. When people have no economic security and cannot rely on their government and a social safety net, they often have children to ensure they will be looked after when they are older.  In some cases, children are seen as essential to provide economic support to families with few other options, such as through labour in subsistence farming. Where child mortality is high, there is an even greater impetus to have more children. Those circumstances can lead in turn to a culture which values high family size.\n",
      "The circumstances which lead people to value and have large families can contribute to a vicious cycle. Families living in poverty with large numbers of dependent children may perceive the need to take children out of education early or marry off their daughters at a young age. They will also often live in communities where access to health care, education and modern family planning is limited. Women are very often the most disadvantaged by poverty, with even more limited educational and economic opportunities. All these factors combine to keep family sizes high, perpetuating the cycle. \n",
      "We cannot confront the massive challenges of poverty, hunger, disease and environmental destruction unless we address issues of population and reproductive health.\n",
      "Thoraya Ahmed Obaid, UN Under-Secretary-General 2000-2010\n",
      "What applies to families, applies also to nations. In poorer countries, providing jobs, infrastructure, health services and education to a constantly growing population can be an impossible task. In the worst cases, even sufficient food can be impossible to supply. In countries with very high population growth, huge numbers of dependent children in comparison to economically productive adults create a further burden. In sub-Saharan Africa, the median age of the entire population is just 19 years old. In Niger, the country with the world’s highest fertility rate, the median age is just 15.3 years.\n",
      "In a 2022 report, the UN Development Programme found that in 16 countries, although the proportion of people living in poverty had decreased, population growth had led to the absolute number of people living in poverty increasing. In the case of Ethiopia, for instance, between 2011 and 2019, incidence of poverty dropped from 83% to 69%, but the number of people in poverty increased from 76m to 78m. \n",
      "Evidence shows that economic growth in low-income countries does not automatically bring about lower fertility rates and population growth, while family sizes have fallen in poorer countries which haven’t grown economically. However, countries which have been successful in bringing down their fertility rates have often moved out of poverty more quickly.\n",
      "Read our latest news about poverty and development\n",
      "Development news\n",
      "You can find all the latest updates on this topic at the link below.\n",
      "Related content\n",
      "Solutions\n",
      "Ending population growth can be achieved through positive, empowering, choice-based actions which improve people’s lives and bring multiple other benefits.\n",
      "Global justice\n",
      "The drivers of poverty and inequality include economic and political structures which favour those who are already wealthy. \n",
      "Joan Kembabazi: girls’ education is key\n",
      "At the beginning of June, Sweden hosted the Stockholm+50 conference, commemorating the 50th anniversary of the United Nations Conference on the Human Environment. Joan Kembabazi, one of our Choice Ambassadors, attended…\n",
      "NEWSLETTER\n",
      "Do you want to find out more about our important work? Sign up to our newsletter to keep up to date with all things population and consumption.\n",
      "sign up\n",
      "MediaJobsGovernancePrivacy policyTerms of useSitemap\n",
      "© 2024 Population Matters\n",
      "Charity 1114109, Company 3019081.\n",
      "The Chandlery, 50 Westminster Bridge Rd, London SE1 7QY, UK\n",
      "Facebook\n",
      "Twitter\n",
      "YouTube\n",
      "Instagram\n",
      "Donate\n",
      "PDF file '../data/IndianPoverty.pdf' generated successfully.\n"
     ]
    }
   ],
   "source": [
    "# this is the piece of code for the webscraping the entered URL of the website\n",
    "from fpdf import FPDF\n",
    "import requests\n",
    "from bs4 import BeautifulSoup\n",
    "from urllib.parse import urljoin\n",
    "\n",
    "def fetch_website_text(url, visited_urls=set()):\n",
    "    # Fetching the HTML content of the website\n",
    "    try:\n",
    "        response = requests.get(url)\n",
    "        response.raise_for_status()  # Raise an exception for HTTP errors\n",
    "        html_content = response.text\n",
    "    except requests.RequestException as e:\n",
    "        print(\"Error fetching website content:\", e)\n",
    "        return \"\"  # Return an empty string if an error occurs\n",
    "\n",
    "    # Parsing HTML using BeautifulSoup\n",
    "    soup = BeautifulSoup(html_content, 'html.parser')\n",
    "\n",
    "    # Extracting text from HTML and removing extra lines\n",
    "    text = soup.get_text()\n",
    "\n",
    "    # Remove extra lines (consecutive blank lines)\n",
    "    lines = text.splitlines()\n",
    "    cleaned_lines = [line for line in lines if line.strip()]\n",
    "    cleaned_text = '\\n'.join(cleaned_lines)\n",
    "\n",
    "    # Add current URL to visited URLs\n",
    "    # visited_urls.add(url)\n",
    "\n",
    "    # Extract links from the page and recursively fetch text from them\n",
    "    # for link in soup.find_all('a', href=True):\n",
    "    #     absolute_link = urljoin(url, link['href'])\n",
    "    #     if absolute_link not in visited_urls and absolute_link.startswith(url):\n",
    "    #         cleaned_text += fetch_website_text(absolute_link, visited_urls)\n",
    "\n",
    "    return cleaned_text\n",
    "\n",
    "def generate_pdf_from_text(text, filename):\n",
    "    pdf = FPDF()\n",
    "    pdf.add_page()\n",
    "    pdf.set_font(\"Arial\", size=12)\n",
    "    pdf.multi_cell(0, 10, text.encode('latin-1', 'replace').decode('latin-1'))  # Encoding the text\n",
    "    pdf.output(filename)\n",
    "\n",
    "def main():\n",
    "    # Enter the URL of the website you want to scrape\n",
    "    url = \"https://populationmatters.org/the-facts-development/poverty/?gad_source=1&gclid=Cj0KCQjwudexBhDKARIsAI-GWYVk65LoMQPd_kMcBacjQqasNxEzXnmk6fcLvcFm7jwZpU-aLiAW86YaAtdJEALw_wcB\"\n",
    "\n",
    "    # Fetching the entire text from the website\n",
    "    website_text = fetch_website_text(url)\n",
    "    if website_text:\n",
    "        print(\"\\nWebsite Text:\")\n",
    "        print(website_text)\n",
    "\n",
    "        # Save the text to a PDF file\n",
    "        filename = \"../data/IndianPoverty.pdf\"\n",
    "        generate_pdf_from_text(website_text, filename)\n",
    "        print(f\"PDF file '{filename}' generated successfully.\")\n",
    "\n",
    "if __name__ == \"__main__\":\n",
    "    main()\n"
   ]
  },
  {
   "cell_type": "code",
   "execution_count": null,
   "metadata": {},
   "outputs": [],
   "source": [
    "'''\n",
    "\n",
    "https://www.csis.org/analysis/us-india-ties-getting-past-building-trust-phase?gad_source=1&gclid=Cj0KCQjwudexBhDKARIsAI-GWYXV7grqe4w5kgCEp5z0fm7bGUH37UMF43GcbZoN9HH_8EBN2xI-gNAaAqtcEALw_wcB\n",
    "https://testbook.com/ias-preparation/important-monuments-of-india\n",
    "https://traveltriangle.com/blog/famous-historical-places-in-india/\n",
    "https://www.india.gov.in/topics/art-culture#:~:text=A%20country%20as%20diverse%20as,'%20(ICH)%20of%20humanity.\n",
    "https://knowindia.india.gov.in/states-uts/\n",
    "https://www.eoiparis.gov.in/page/indian-states-and-union-territories/\n",
    "https://en.wikipedia.org/wiki/India\n",
    "https://en.wikipedia.org/wiki/Indian_Ocean\n",
    "https://en.wikipedia.org/wiki/List_of_Indians_by_net_worth\n",
    "https://idronline.org/india-population-control-strategy-needs-women-at-centre/?gad_source=1&gclid=Cj0KCQjwudexBhDKARIsAI-GWYX0jjs5CZof9CSzL5Z3mXHybLhX6aQ8Zptj466cmzLdkBa8wNJVsRMaAp9_EALw_wcB\n",
    "https://populationmatters.org/the-facts-development/poverty/?gad_source=1&gclid=Cj0KCQjwudexBhDKARIsAI-GWYVk65LoMQPd_kMcBacjQqasNxEzXnmk6fcLvcFm7jwZpU-aLiAW86YaAtdJEALw_wcB\n",
    "\n",
    "\n",
    "\n",
    "\n",
    "\n",
    "'''\n"
   ]
  },
  {
   "cell_type": "code",
   "execution_count": null,
   "metadata": {},
   "outputs": [],
   "source": []
  },
  {
   "cell_type": "code",
   "execution_count": 6,
   "metadata": {},
   "outputs": [
    {
     "name": "stdout",
     "output_type": "stream",
     "text": [
      "Requirement already satisfied: requests in d:\\datascience-interviews+brainstormingusecases\\modusetp\\hindbot\\venv\\lib\\site-packages (2.31.0)\n",
      "Collecting beautifulsoup4\n",
      "  Using cached beautifulsoup4-4.12.3-py3-none-any.whl.metadata (3.8 kB)\n",
      "Requirement already satisfied: charset-normalizer<4,>=2 in d:\\datascience-interviews+brainstormingusecases\\modusetp\\hindbot\\venv\\lib\\site-packages (from requests) (3.3.2)\n",
      "Requirement already satisfied: idna<4,>=2.5 in d:\\datascience-interviews+brainstormingusecases\\modusetp\\hindbot\\venv\\lib\\site-packages (from requests) (3.7)\n",
      "Requirement already satisfied: urllib3<3,>=1.21.1 in d:\\datascience-interviews+brainstormingusecases\\modusetp\\hindbot\\venv\\lib\\site-packages (from requests) (2.2.1)\n",
      "Requirement already satisfied: certifi>=2017.4.17 in d:\\datascience-interviews+brainstormingusecases\\modusetp\\hindbot\\venv\\lib\\site-packages (from requests) (2024.2.2)\n",
      "Collecting soupsieve>1.2 (from beautifulsoup4)\n",
      "  Using cached soupsieve-2.5-py3-none-any.whl.metadata (4.7 kB)\n",
      "Using cached beautifulsoup4-4.12.3-py3-none-any.whl (147 kB)\n",
      "Using cached soupsieve-2.5-py3-none-any.whl (36 kB)\n",
      "Installing collected packages: soupsieve, beautifulsoup4\n",
      "Successfully installed beautifulsoup4-4.12.3 soupsieve-2.5\n"
     ]
    }
   ],
   "source": [
    "!pip install requests beautifulsoup4"
   ]
  },
  {
   "cell_type": "code",
   "execution_count": 7,
   "metadata": {},
   "outputs": [
    {
     "name": "stdout",
     "output_type": "stream",
     "text": [
      "Requirement already satisfied: fpdf in d:\\datascience-interviews+brainstormingusecases\\modusetp\\hindbot\\venv\\lib\\site-packages (1.7.2)\n"
     ]
    }
   ],
   "source": [
    "!pip install fpdf\n"
   ]
  },
  {
   "cell_type": "code",
   "execution_count": null,
   "metadata": {},
   "outputs": [],
   "source": []
  },
  {
   "cell_type": "code",
   "execution_count": null,
   "metadata": {},
   "outputs": [],
   "source": []
  },
  {
   "cell_type": "code",
   "execution_count": null,
   "metadata": {},
   "outputs": [],
   "source": []
  },
  {
   "cell_type": "code",
   "execution_count": null,
   "metadata": {},
   "outputs": [],
   "source": []
  },
  {
   "cell_type": "code",
   "execution_count": null,
   "metadata": {},
   "outputs": [],
   "source": []
  },
  {
   "cell_type": "code",
   "execution_count": null,
   "metadata": {},
   "outputs": [],
   "source": []
  }
 ],
 "metadata": {
  "kernelspec": {
   "display_name": "Python 3",
   "language": "python",
   "name": "python3"
  },
  "language_info": {
   "codemirror_mode": {
    "name": "ipython",
    "version": 3
   },
   "file_extension": ".py",
   "mimetype": "text/x-python",
   "name": "python",
   "nbconvert_exporter": "python",
   "pygments_lexer": "ipython3",
   "version": "3.11.0"
  }
 },
 "nbformat": 4,
 "nbformat_minor": 2
}
